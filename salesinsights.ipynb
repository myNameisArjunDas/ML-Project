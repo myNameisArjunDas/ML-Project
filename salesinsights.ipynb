{
 "cells": [
  {
   "cell_type": "code",
   "execution_count": 2,
   "id": "e56047b6-a129-4bfa-95ad-00c1d83bdc4f",
   "metadata": {},
   "outputs": [],
   "source": [
    "import pandas as pd\n",
    "import numpy as np\n",
    "import matplotlib.pyplot as plt\n",
    "import pymysql as my"
   ]
  },
  {
   "cell_type": "code",
   "execution_count": 3,
   "id": "413d2f47-9826-4173-a509-d9c8d357a850",
   "metadata": {},
   "outputs": [
    {
     "name": "stdout",
     "output_type": "stream",
     "text": [
      "('Cus001', 'Surge Stores', 'Brick & Mortar')\n",
      "('Cus002', 'Nomad Stores', 'Brick & Mortar')\n",
      "('Cus003', 'Excel Stores', 'Brick & Mortar')\n",
      "('Cus004', 'Surface Stores', 'Brick & Mortar')\n",
      "('Cus005', 'Premium Stores', 'Brick & Mortar')\n",
      "('Cus006', 'Electricalsara Stores', 'Brick & Mortar')\n",
      "('Cus007', 'Info Stores', 'Brick & Mortar')\n",
      "('Cus008', 'Acclaimed Stores', 'Brick & Mortar')\n",
      "('Cus009', 'Electricalsquipo Stores', 'Brick & Mortar')\n",
      "('Cus010', 'Atlas Stores', 'Brick & Mortar')\n",
      "('Cus011', 'Flawless Stores', 'Brick & Mortar')\n",
      "('Cus012', 'Integration Stores', 'Brick & Mortar')\n",
      "('Cus013', 'Unity Stores', 'Brick & Mortar')\n",
      "('Cus014', 'Forward Stores', 'Brick & Mortar')\n",
      "('Cus015', 'Electricalsbea Stores', 'Brick & Mortar')\n",
      "('Cus016', 'Logic Stores', 'Brick & Mortar')\n",
      "('Cus017', 'Epic Stores', 'Brick & Mortar')\n",
      "('Cus018', 'Electricalslance Stores', 'Brick & Mortar')\n",
      "('Cus019', 'Electricalsopedia Stores', 'Brick & Mortar')\n",
      "('Cus020', 'Nixon', 'E-Commerce')\n",
      "('Cus021', 'Modular', 'E-Commerce')\n",
      "('Cus022', 'Electricalslytical', 'E-Commerce')\n",
      "('Cus023', 'Sound', 'E-Commerce')\n",
      "('Cus024', 'Power', 'E-Commerce')\n",
      "('Cus025', 'Path', 'E-Commerce')\n",
      "('Cus026', 'Insight', 'E-Commerce')\n",
      "('Cus027', 'Control', 'E-Commerce')\n",
      "('Cus028', 'Sage', 'E-Commerce')\n",
      "('Cus029', 'Electricalsocity', 'E-Commerce')\n",
      "('Cus030', 'Synthetic', 'E-Commerce')\n",
      "('Cus031', 'Zone', 'E-Commerce')\n",
      "('Cus032', 'Elite', 'E-Commerce')\n",
      "('Cus033', 'All-Out', 'E-Commerce')\n",
      "('Cus034', 'Expression', 'E-Commerce')\n",
      "('Cus035', 'Relief', 'E-Commerce')\n",
      "('Cus036', 'Novus', 'E-Commerce')\n",
      "('Cus037', 'Propel', 'E-Commerce')\n",
      "('Cus038', 'Leader', 'E-Commerce')\n"
     ]
    }
   ],
   "source": [
    "try:\n",
    "    host = 'localhost'\n",
    "    user = 'root'\n",
    "    password = '123Amajeec016!'\n",
    "    database = 'sales'\n",
    "\n",
    "    # Establish a connection to the MySQL server\n",
    "    mydb = my.connect(host=host, user=user, password=password, database=database)\n",
    "\n",
    "    # Create a cursor object to execute SQL queries\n",
    "    mycur = mydb.cursor()\n",
    "\n",
    "    # SQL query to select all records from the 'customers' table\n",
    "    qry1 = \"\"\"\n",
    "    SELECT * FROM customers;\n",
    "    \"\"\"\n",
    "\n",
    "    # Execute the query\n",
    "    mycur.execute(qry1)\n",
    "\n",
    "    # Fetch all the rows from the result set\n",
    "    rows = mycur.fetchall()\n",
    "\n",
    "    # Display the rows\n",
    "    for row in rows:\n",
    "        print(row)\n",
    "\n",
    "    # Close the cursor\n",
    "    mycur.close()\n",
    "\n",
    "except my.Error as e:\n",
    "    print(\"Error occurred:\", e)\n",
    "finally:\n",
    "    # Close the database connection\n",
    "    if 'mydb' in locals():\n",
    "        mydb.close()\n"
   ]
  },
  {
   "cell_type": "code",
   "execution_count": null,
   "id": "a2b5342a-69d5-401a-bcb2-aac2bdb4a064",
   "metadata": {},
   "outputs": [],
   "source": []
  }
 ],
 "metadata": {
  "kernelspec": {
   "display_name": "Python 3 (ipykernel)",
   "language": "python",
   "name": "python3"
  },
  "language_info": {
   "codemirror_mode": {
    "name": "ipython",
    "version": 3
   },
   "file_extension": ".py",
   "mimetype": "text/x-python",
   "name": "python",
   "nbconvert_exporter": "python",
   "pygments_lexer": "ipython3",
   "version": "3.12.2"
  }
 },
 "nbformat": 4,
 "nbformat_minor": 5
}
